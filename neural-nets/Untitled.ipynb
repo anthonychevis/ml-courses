{
 "cells": [
  {
   "cell_type": "code",
   "execution_count": 15,
   "metadata": {
    "collapsed": false
   },
   "outputs": [
    {
     "name": "stdout",
     "output_type": "stream",
     "text": [
      "a= [[ 0.61489389  0.92691653 -1.56382998]\n",
      " [ 0.69904363  0.73288941  1.46780552]]\n",
      "b= [[ 0.95850106]\n",
      " [ 0.36412758]]\n",
      "c= [[ 1.57339495  1.8854176  -0.60532891]\n",
      " [ 1.06317121  1.09701699  1.8319331 ]]\n"
     ]
    }
   ],
   "source": [
    "import numpy as np\n",
    "\n",
    "a = np.random.randn(2, 3) # a.shape = (2, 3)\n",
    "b = np.random.randn(2, 1) # b.shape = (2, 1)\n",
    "c = a + b\n",
    "\n",
    "print 'a=', a\n",
    "print 'b=', b\n",
    "print 'c=', c"
   ]
  },
  {
   "cell_type": "code",
   "execution_count": 16,
   "metadata": {
    "collapsed": false
   },
   "outputs": [
    {
     "ename": "ValueError",
     "evalue": "operands could not be broadcast together with shapes (4,3) (3,2) ",
     "output_type": "error",
     "traceback": [
      "\u001b[1;31m---------------------------------------------------------------------------\u001b[0m",
      "\u001b[1;31mValueError\u001b[0m                                Traceback (most recent call last)",
      "\u001b[1;32m<ipython-input-16-1993b452a87d>\u001b[0m in \u001b[0;36m<module>\u001b[1;34m()\u001b[0m\n\u001b[0;32m      1\u001b[0m \u001b[0ma\u001b[0m \u001b[1;33m=\u001b[0m \u001b[0mnp\u001b[0m\u001b[1;33m.\u001b[0m\u001b[0mrandom\u001b[0m\u001b[1;33m.\u001b[0m\u001b[0mrandn\u001b[0m\u001b[1;33m(\u001b[0m\u001b[1;36m4\u001b[0m\u001b[1;33m,\u001b[0m \u001b[1;36m3\u001b[0m\u001b[1;33m)\u001b[0m \u001b[1;31m# a.shape = (4, 3)\u001b[0m\u001b[1;33m\u001b[0m\u001b[0m\n\u001b[0;32m      2\u001b[0m \u001b[0mb\u001b[0m \u001b[1;33m=\u001b[0m \u001b[0mnp\u001b[0m\u001b[1;33m.\u001b[0m\u001b[0mrandom\u001b[0m\u001b[1;33m.\u001b[0m\u001b[0mrandn\u001b[0m\u001b[1;33m(\u001b[0m\u001b[1;36m3\u001b[0m\u001b[1;33m,\u001b[0m \u001b[1;36m2\u001b[0m\u001b[1;33m)\u001b[0m \u001b[1;31m# b.shape = (3, 2)\u001b[0m\u001b[1;33m\u001b[0m\u001b[0m\n\u001b[1;32m----> 3\u001b[1;33m \u001b[0mc\u001b[0m \u001b[1;33m=\u001b[0m \u001b[0ma\u001b[0m\u001b[1;33m*\u001b[0m\u001b[0mb\u001b[0m\u001b[1;33m\u001b[0m\u001b[0m\n\u001b[0m\u001b[0;32m      4\u001b[0m \u001b[1;32mprint\u001b[0m \u001b[1;34m'a='\u001b[0m\u001b[1;33m,\u001b[0m \u001b[0ma\u001b[0m\u001b[1;33m\u001b[0m\u001b[0m\n\u001b[0;32m      5\u001b[0m \u001b[1;32mprint\u001b[0m \u001b[1;34m'b='\u001b[0m\u001b[1;33m,\u001b[0m \u001b[0mb\u001b[0m\u001b[1;33m\u001b[0m\u001b[0m\n",
      "\u001b[1;31mValueError\u001b[0m: operands could not be broadcast together with shapes (4,3) (3,2) "
     ]
    }
   ],
   "source": [
    "a = np.random.randn(4, 3) # a.shape = (4, 3)\n",
    "b = np.random.randn(3, 2) # b.shape = (3, 2)\n",
    "c = a*b\n",
    "print 'a=', a\n",
    "print 'b=', b\n",
    "print 'c=', c"
   ]
  },
  {
   "cell_type": "code",
   "execution_count": 24,
   "metadata": {
    "collapsed": false
   },
   "outputs": [
    {
     "name": "stdout",
     "output_type": "stream",
     "text": [
      "(12288L, 45L)\n"
     ]
    }
   ],
   "source": [
    "a = np.random.randn(12288, 150) # a.shape = (12288, 150)\n",
    "b = np.random.randn(150, 45) # b.shape = (150, 45)\n",
    "c = np.dot(a,b)\n",
    "\n",
    "print c.shape\n"
   ]
  },
  {
   "cell_type": "code",
   "execution_count": 41,
   "metadata": {
    "collapsed": false
   },
   "outputs": [
    {
     "name": "stdout",
     "output_type": "stream",
     "text": [
      "a= [[ 1.12416636 -0.40282351 -0.42940715 -0.08104071]\n",
      " [ 0.22719842 -0.86207711  0.79366055  1.6052962 ]\n",
      " [-0.14674353 -0.6992482   0.40607296 -0.79094261]]\n",
      "b= [[-0.75276013]\n",
      " [ 1.71630119]\n",
      " [-0.65158585]\n",
      " [ 1.2302882 ]]\n",
      "c= [[ 0.37140623  1.31347768 -1.08099301  1.14924749]\n",
      " [-0.52556171  0.85422408  0.14207469  2.8355844 ]\n",
      " [-0.89950366  1.01705298 -0.24551289  0.43934559]]\n",
      "a + b.T [[ 0.37140623  1.31347768 -1.08099301  1.14924749]\n",
      " [-0.52556171  0.85422408  0.14207469  2.8355844 ]\n",
      " [-0.89950366  1.01705298 -0.24551289  0.43934559]]\n"
     ]
    }
   ],
   "source": [
    "a = np.random.randn(3,4)\n",
    "b = np.random.randn(4,1)\n",
    "c = np.zeros((3,4))\n",
    "\n",
    "for i in range(3):\n",
    "  for j in range(4):\n",
    "    c[i][j] = a[i][j] + b[j]\n",
    "    \n",
    "print 'a=', a\n",
    "print 'b=', b\n",
    "print 'c=', c\n",
    "\n",
    "print 'a + b.T', a + b.T"
   ]
  },
  {
   "cell_type": "code",
   "execution_count": 42,
   "metadata": {
    "collapsed": false
   },
   "outputs": [
    {
     "name": "stdout",
     "output_type": "stream",
     "text": [
      "a= [[-0.26608117 -0.31405324 -2.17902964]\n",
      " [-2.69278982 -0.8629026  -0.12443292]\n",
      " [ 0.04980799  0.21412945  0.24521517]]\n",
      "b= [[ 0.14697054]\n",
      " [-0.31944335]\n",
      " [ 1.11026013]]\n",
      "c= [[-0.03910609 -0.04615658 -0.32025317]\n",
      " [ 0.86019381  0.2756485   0.03974927]\n",
      " [ 0.05529982  0.2377394   0.27225263]]\n"
     ]
    }
   ],
   "source": [
    "a = np.random.randn(3, 3)\n",
    "b = np.random.randn(3, 1)\n",
    "c = a*b\n",
    "\n",
    "print 'a=', a\n",
    "print 'b=', b\n",
    "print 'c=', c"
   ]
  }
 ],
 "metadata": {
  "kernelspec": {
   "display_name": "Python 2",
   "language": "python",
   "name": "python2"
  },
  "language_info": {
   "codemirror_mode": {
    "name": "ipython",
    "version": 2
   },
   "file_extension": ".py",
   "mimetype": "text/x-python",
   "name": "python",
   "nbconvert_exporter": "python",
   "pygments_lexer": "ipython2",
   "version": "2.7.11"
  }
 },
 "nbformat": 4,
 "nbformat_minor": 0
}
